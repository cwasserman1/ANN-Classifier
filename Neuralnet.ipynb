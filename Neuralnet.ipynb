{
 "cells": [
  {
   "cell_type": "code",
   "execution_count": 1,
   "id": "ea7ed723-7eaa-4a5f-bfb4-f2bce8d75182",
   "metadata": {},
   "outputs": [],
   "source": [
    "import numpy as np\n",
    "import math\n",
    "import matplotlib.pyplot as plt\n",
    "import pandas as pd\n",
    "from sklearn.model_selection import train_test_split\n",
    "from sklearn.utils import gen_batches"
   ]
  },
  {
   "cell_type": "code",
   "execution_count": 15,
   "id": "850a5431-7bff-4aa0-9839-3d2dfa7aae89",
   "metadata": {},
   "outputs": [],
   "source": [
    "class NeuralNetwork():\n",
    "    def __init__(self):\n",
    "        self.layers = []\n",
    "        self.cache = {}\n",
    "        self.num_layers = -1\n",
    "        self.dense_layers = []\n",
    "    def set_layers(self):\n",
    "        \"\"\"\n",
    "        Once an architecture is set in self.layers, run this function for needed initialization\n",
    "        \"\"\"\n",
    "        i = 0\n",
    "        for j in self.layers:\n",
    "            if not callable(j):\n",
    "                self.dense_layers.append(j)\n",
    "                i += 1\n",
    "        self.num_layers = i\n",
    "    def dense_layer(self,n_inputs,n_neurons):\n",
    "        \"\"\"\n",
    "        Used to create a dense(or hidden layer)\n",
    "        Returns: a list of length 2, the weights of the layer are randomly initialized using a uniform\n",
    "        distribution and the bias is initialied to the zero vector\n",
    "        \"\"\"\n",
    "        w = np.random.rand(n_inputs,n_neurons)\n",
    "        b = np.zeros((n_neurons,1))\n",
    "        return [w,b]\n",
    "    def forward(self,X):\n",
    "        \"\"\"\n",
    "        Uses model parameters and an input X to compute the model output\n",
    "        \"\"\"\n",
    "        num_A = 1\n",
    "        num_Z = 1\n",
    "        for a,i in enumerate(self.layers):\n",
    "            if callable(i):\n",
    "                X = i(X)\n",
    "                self.cache[f\"A{num_A}\"] = X\n",
    "                num_A += 1\n",
    "            else:\n",
    "                self.cache[f\"W{num_Z}\"] = i[0]\n",
    "                X = i[0].T.dot(X) + i[1]\n",
    "                self.cache[f\"Z{num_Z}\"] = X\n",
    "                num_Z += 1\n",
    "        return X\n",
    "    def back_propagation(self,X,y_pred,y):\n",
    "        \"\"\"\n",
    "        Takes model input, the model prediction from the forward step, and the correct output.\n",
    "        Backpropagates the error along the network to compute partial derivative terms\n",
    "        Stores all output in self.cache\n",
    "        \"\"\"\n",
    "        m = y.shape[1]\n",
    "        cache = self.cache\n",
    "        num_layers = self.num_layers\n",
    "        dZ = y_pred - y #This is the derivative of the cross-entropy loss function\n",
    "        cache[f\"dZ{num_layers}\"] = dZ\n",
    "        cache[f\"dW{num_layers}\"] = (1/m) * dZ.dot(cache[f\"A{num_layers - 1}\"].T)\n",
    "        cache[f\"db{num_layers}\"] = (1/m) * np.sum(dZ,axis = 1,keepdims=True)\n",
    "        cache[f\"dA{num_layers - 1}\"] = cache[f\"W{num_layers}\"].dot(dZ)\n",
    "        for i in range(num_layers-1,0,-1):\n",
    "            dZ = cache[f\"dA{i}\"] \n",
    "            cache[f\"dZ{i}\"] = dZ * self.ReLU_Derivative(cache[f\"Z{i}\"]) #Change to work with any activation function\n",
    "            if i > 1:\n",
    "                cache[f\"dW{i}\"] = (1/m) * dZ.dot(cache[f\"A{i - 1}\"].T)\n",
    "            else:\n",
    "                cache[f\"dW{i}\"] = (1/m) * dZ.dot(X.T)\n",
    "            cache[f\"db{i}\"] = (1/m) * np.sum(dZ,axis = 1,keepdims=True)\n",
    "            cache[f\"dA{i - 1}\"] = cache[f\"W{i}\"].dot(dZ)\n",
    "    def ReLU(self,X):\n",
    "        \"\"\"\n",
    "        Rectified Linear Unit:\n",
    "        Takes X: which can either be a real number of a vector:\n",
    "        Returns X if X is greater than 0, otherwise returns 0\n",
    "        \"\"\"\n",
    "        return np.maximum(0,X)\n",
    "    def ReLU_Derivative(self,X):\n",
    "        temp = np.copy(X)\n",
    "        temp[temp<=0] = 0\n",
    "        temp[temp>0] = 1\n",
    "        return temp\n",
    "    def softmax(self,x):\n",
    "        \"\"\"\n",
    "        Softmax function stabilized\n",
    "        \"\"\"\n",
    "        return(np.exp(x-np.max(x)) / np.exp(x-np.max(x)).sum())\n",
    "    def softmax_derivative(x):\n",
    "        \"\"\"\n",
    "        Derivative of the softmax function for backpropagation\n",
    "        \"\"\"\n",
    "        s = softmax(x)\n",
    "        s_diag = np.diagflat(s)\n",
    "        return s_diag - np.dot(s, s.T)\n",
    "    def cross_entropy_loss(self,y,y_pred):\n",
    "        y_pred = np.clip(y_pred, 1e-9, 1- 1e-9)\n",
    "        return -np.sum(y * np.log(y_pred))\n",
    "    def train(self,X,y,epochs,lr,batch_size = None):\n",
    "        \"\"\"\n",
    "        Trains the model over a given number of epochs with a specified learning rate.\n",
    "        \"\"\"\n",
    "        losses = []\n",
    "        slices = None\n",
    "        \n",
    "        if batch_size == None:\n",
    "            slices = np.arange(len(X))\n",
    "        else:\n",
    "            slices = gen_batches(len(X),batch_size)\n",
    "        for epoch in range(epochs):\n",
    "            num_correct = 0\n",
    "            for p,j in enumerate(slices):\n",
    "                training_ex = X[j]\n",
    "                if batch_size != None:\n",
    "                    training_ex = training_ex.reshape(training_ex.shape[1],batch_size)\n",
    "                #Forward pass - compute output\n",
    "                y_pred = self.forward(training_ex)\n",
    "                if np.argmax(y_pred) == np.argmax(y[j]):\n",
    "                    num_correct += 1\n",
    "                accuracy = num_correct / (p+1)\n",
    "                if batch_size == None:\n",
    "                    if p % 10000 == 0:\n",
    "                        print(f\"Epoch {epoch} ======= Iteration {p}=======Accuracy Rate{accuracy}\")\n",
    "                else:\n",
    "                    pass\n",
    "                losses.append(accuracy)\n",
    "                if np.isnan(y_pred).any():\n",
    "                    print(f'Iteration{p} NAN ERROR====Training Terminated')\n",
    "                    return\n",
    "                #Backward pass - compute gradients\n",
    "                self.back_propagation(training_ex,y_pred,y[p])\n",
    "                #Gradient Descent- update weights\n",
    "                for k in range(len(self.dense_layers)):\n",
    "                   # print(self.layers[k][0].shape,self.cache[f\"dW{k+1}\"].shape)\n",
    "                    self.dense_layers[k][0] -= lr * self.cache[f\"dW{k+1}\"].T\n",
    "                    self.dense_layers[k][1] -= lr * self.cache[f\"db{k+1}\"]\n",
    "        return losses"
   ]
  },
  {
   "cell_type": "code",
   "execution_count": 16,
   "id": "37c94599-da51-4db5-94da-e5a82c258a9c",
   "metadata": {},
   "outputs": [],
   "source": [
    "def plot_pic(df,i):\n",
    "    plt.imshow(df.iloc[i,1:].to_numpy().reshape(28,28),cmap='gray')"
   ]
  },
  {
   "cell_type": "code",
   "execution_count": 17,
   "id": "822d6505-10a2-48f5-b3b0-014e7d670736",
   "metadata": {},
   "outputs": [],
   "source": [
    "#Data Preprocessing\n",
    "df = pd.read_csv('mnist_data/mnist_train.csv')"
   ]
  },
  {
   "cell_type": "code",
   "execution_count": 18,
   "id": "ea07638c-b97a-47ca-a520-2d3242d805a8",
   "metadata": {},
   "outputs": [],
   "source": [
    "X = df.iloc[:,1:].to_numpy()\n",
    "y = df.iloc[:,0].to_numpy()\n",
    "# #normalize X_data\n",
    "for i,a in enumerate(X):\n",
    "    X[i] = (a - np.mean(a))/(np.std(a))\n",
    "new_y = []\n",
    "for i in range(len(y)):\n",
    "    temp = np.zeros((10,1))\n",
    "    temp[y[i]] = 1\n",
    "    new_y.append(temp)\n",
    "new_y = np.array(new_y)\n",
    "X_train,X_test,y_train,y_test = train_test_split(X,new_y,test_size=.3)\n",
    "X_train = X_train.reshape(42000, 784,1)\n",
    "X_test = X_test.reshape(X_test.shape[0], 784,1)"
   ]
  },
  {
   "cell_type": "code",
   "execution_count": 37,
   "id": "d96f84d3-d97d-41c0-9692-d653402eb9db",
   "metadata": {},
   "outputs": [],
   "source": [
    "nn = NeuralNetwork()\n",
    "l1 = nn.dense_layer(784,100)\n",
    "l2 = nn.dense_layer(100,10)"
   ]
  },
  {
   "cell_type": "code",
   "execution_count": 38,
   "id": "fffea186-78cf-49b7-ac32-fde558db7829",
   "metadata": {},
   "outputs": [],
   "source": [
    "nn.layers = [l1,nn.ReLU,l2,nn.softmax]\n",
    "nn.set_layers()"
   ]
  },
  {
   "cell_type": "code",
   "execution_count": 39,
   "id": "ac36e394-2b46-4b0e-a41a-4e231fdff65c",
   "metadata": {},
   "outputs": [
    {
     "name": "stdout",
     "output_type": "stream",
     "text": [
      "Epoch 0 ======= Iteration 0=======Accuracy Rate0.0\n",
      "Epoch 0 ======= Iteration 10000=======Accuracy Rate0.5778422157784222\n",
      "Epoch 0 ======= Iteration 20000=======Accuracy Rate0.6940152992350382\n",
      "Epoch 0 ======= Iteration 30000=======Accuracy Rate0.7439752008266391\n",
      "Epoch 0 ======= Iteration 40000=======Accuracy Rate0.7741556461088472\n",
      "Epoch 1 ======= Iteration 0=======Accuracy Rate1.0\n",
      "Epoch 1 ======= Iteration 10000=======Accuracy Rate0.8791120887911209\n",
      "Epoch 1 ======= Iteration 20000=======Accuracy Rate0.8767061646917654\n",
      "Epoch 1 ======= Iteration 30000=======Accuracy Rate0.8762374587513749\n",
      "Epoch 1 ======= Iteration 40000=======Accuracy Rate0.8776280592985175\n"
     ]
    }
   ],
   "source": [
    "losses = nn.train(X_train,y_train,epochs = 2, lr = 0.001,batch_size=None)"
   ]
  },
  {
   "cell_type": "code",
   "execution_count": 117,
   "id": "add00493-34d2-4a70-a5ee-471a2483f385",
   "metadata": {},
   "outputs": [],
   "source": [
    "num_correct = 0\n",
    "for i in range(len(X_test)):\n",
    "    if np.argmax(nn.forward(X_test[i])) == np.argmax(y_test[i]):\n",
    "        num_correct += 1"
   ]
  },
  {
   "cell_type": "code",
   "execution_count": 118,
   "id": "010610c8-613a-4741-b68e-633a59a7deb3",
   "metadata": {},
   "outputs": [
    {
     "name": "stdout",
     "output_type": "stream",
     "text": [
      "Total Accuracy: 0.8811666666666667\n"
     ]
    }
   ],
   "source": [
    "print(f\"Total Accuracy: {num_correct/len(X_test)}\")"
   ]
  },
  {
   "cell_type": "code",
   "execution_count": 114,
   "id": "f97106ae-e2dd-4fd2-a682-d304f70d27e9",
   "metadata": {},
   "outputs": [
    {
     "data": {
      "image/png": "[encoded data removed]",
      "text/plain": [
       "<Figure size 432x288 with 1 Axes>"
      ]
     },
     "metadata": {
      "needs_background": "light"
     },
     "output_type": "display_data"
    }
   ],
   "source": [
    "#Plotting accuracy\n",
    "plt.plot(losses)\n",
    "plt.xlabel(\"Training iteration\")\n",
    "plt.xlabel(\"Accuracy\")\n",
    "plt.show()"
   ]
  },
  {
   "cell_type": "code",
   "execution_count": 124,
   "id": "c3d2fc59-c1cb-4f53-b944-dd98c3821f3f",
   "metadata": {},
   "outputs": [
    {
     "name": "stdout",
     "output_type": "stream",
     "text": [
      "[5]\n"
     ]
    }
   ],
   "source": [
    "#Print model output for the 100th testing example\n",
    "print(np.argmax(nn.forward(X_test[100]),axis = 0))"
   ]
  },
  {
   "cell_type": "code",
   "execution_count": 125,
   "id": "6685e2d9-5ac6-4257-b987-8aa9c957114d",
   "metadata": {},
   "outputs": [
    {
     "name": "stdout",
     "output_type": "stream",
     "text": [
      "[5]\n"
     ]
    }
   ],
   "source": [
    "#Print correct output fot the 100th testing example\n",
    "print(np.argmax(y_test[100],axis = 0))"
   ]
  },
  {
   "cell_type": "code",
   "execution_count": null,
   "id": "5a15aefe-75f4-4920-8fc6-e5749902b5ca",
   "metadata": {},
   "outputs": [],
   "source": []
  }
 ],
 "metadata": {
  "kernelspec": {
   "display_name": "Python 3 (ipykernel)",
   "language": "python",
   "name": "python3"
  },
  "language_info": {
   "codemirror_mode": {
    "name": "ipython",
    "version": 3
   },
   "file_extension": ".py",
   "mimetype": "text/x-python",
   "name": "python",
   "nbconvert_exporter": "python",
   "pygments_lexer": "ipython3",
   "version": "3.9.7"
  }
 },
 "nbformat": 4,
 "nbformat_minor": 5
}
